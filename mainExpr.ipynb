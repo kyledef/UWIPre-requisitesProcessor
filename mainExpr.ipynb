{
 "cells": [
  {
   "cell_type": "code",
   "execution_count": 1,
   "metadata": {},
   "outputs": [],
   "source": [
    "import pandas as pd"
   ]
  },
  {
   "cell_type": "code",
   "execution_count": 2,
   "metadata": {},
   "outputs": [],
   "source": [
    "data_dir = \"./data\"\n",
    "file_name=\"Copy of Briggs Course Prerequisites 201710 201720 13MAR2018.xls\""
   ]
  },
  {
   "cell_type": "code",
   "execution_count": 3,
   "metadata": {},
   "outputs": [],
   "source": [
    "df = pd.read_excel(\"{0}/{1}\".format(data_dir, file_name), sheet_name=\"Original Sheet\")\n",
    "df['PRE_REQUISITES'] = df['PRE_REQUISITES'].fillna(\"\")"
   ]
  },
  {
   "cell_type": "code",
   "execution_count": 4,
   "metadata": {},
   "outputs": [],
   "source": [
    "sample_string = \"(Undergraduate level AGBU 1005 Minimum Grade of D or Undergraduate level AM 15A Minimum Grade of D) and (Undergraduate level AGBU 1006 Minimum Grade of D or (Undergraduate level AM 15B Minimum Grade of D) and Undergraduate level AGRI 1004 Minimum Grade of D or Undergraduate level AG 15B Minimum Grade of D)\""
   ]
  },
  {
   "cell_type": "markdown",
   "metadata": {},
   "source": [
    "## Checking for Complicated cases to make determination about validity of derived solution"
   ]
  },
  {
   "cell_type": "code",
   "execution_count": 5,
   "metadata": {},
   "outputs": [],
   "source": [
    "df['ANDs'] = df['PRE_REQUISITES'].str.lower().str.split(\" and \").apply(len)\n",
    "df['ORs'] = df['PRE_REQUISITES'].str.lower().str.split(\" or \").apply(len)"
   ]
  },
  {
   "cell_type": "code",
   "execution_count": 54,
   "metadata": {},
   "outputs": [
    {
     "data": {
      "text/html": [
       "<div>\n",
       "<style scoped>\n",
       "    .dataframe tbody tr th:only-of-type {\n",
       "        vertical-align: middle;\n",
       "    }\n",
       "\n",
       "    .dataframe tbody tr th {\n",
       "        vertical-align: top;\n",
       "    }\n",
       "\n",
       "    .dataframe thead th {\n",
       "        text-align: right;\n",
       "    }\n",
       "</style>\n",
       "<table border=\"1\" class=\"dataframe\">\n",
       "  <thead>\n",
       "    <tr style=\"text-align: right;\">\n",
       "      <th></th>\n",
       "      <th>TERM_CODE</th>\n",
       "      <th>TERM_DESC</th>\n",
       "      <th>SUBJ_CODE</th>\n",
       "      <th>CRSE_NUMB</th>\n",
       "      <th>SECTION</th>\n",
       "      <th>COURSE_FACULTY</th>\n",
       "      <th>COURSE_DEPARTMENT</th>\n",
       "      <th>PRE_REQUISITES</th>\n",
       "      <th>ANDs</th>\n",
       "      <th>ORs</th>\n",
       "    </tr>\n",
       "  </thead>\n",
       "  <tbody>\n",
       "    <tr>\n",
       "      <th>770</th>\n",
       "      <td>201710</td>\n",
       "      <td>2017/2018 Semester I</td>\n",
       "      <td>ECON</td>\n",
       "      <td>2000</td>\n",
       "      <td>E01</td>\n",
       "      <td>Social Sciences</td>\n",
       "      <td>Economics</td>\n",
       "      <td>(Undergraduate level ECON 1001 Minimum Grade o...</td>\n",
       "      <td>6</td>\n",
       "      <td>38</td>\n",
       "    </tr>\n",
       "    <tr>\n",
       "      <th>784</th>\n",
       "      <td>201710</td>\n",
       "      <td>2017/2018 Semester I</td>\n",
       "      <td>ECON</td>\n",
       "      <td>2015</td>\n",
       "      <td>E01</td>\n",
       "      <td>Social Sciences</td>\n",
       "      <td>Economics</td>\n",
       "      <td>(Undergraduate level ECON 1003 Minimum Grade o...</td>\n",
       "      <td>6</td>\n",
       "      <td>38</td>\n",
       "    </tr>\n",
       "    <tr>\n",
       "      <th>772</th>\n",
       "      <td>201710</td>\n",
       "      <td>2017/2018 Semester I</td>\n",
       "      <td>ECON</td>\n",
       "      <td>2000</td>\n",
       "      <td>S01</td>\n",
       "      <td>Social Sciences</td>\n",
       "      <td>Economics</td>\n",
       "      <td>(Undergraduate level ECON 1001 Minimum Grade o...</td>\n",
       "      <td>7</td>\n",
       "      <td>35</td>\n",
       "    </tr>\n",
       "    <tr>\n",
       "      <th>786</th>\n",
       "      <td>201710</td>\n",
       "      <td>2017/2018 Semester I</td>\n",
       "      <td>ECON</td>\n",
       "      <td>2015</td>\n",
       "      <td>S01</td>\n",
       "      <td>Social Sciences</td>\n",
       "      <td>Economics</td>\n",
       "      <td>(Undergraduate level ECON 1004 Minimum Grade o...</td>\n",
       "      <td>6</td>\n",
       "      <td>35</td>\n",
       "    </tr>\n",
       "    <tr>\n",
       "      <th>775</th>\n",
       "      <td>201710</td>\n",
       "      <td>2017/2018 Semester I</td>\n",
       "      <td>ECON</td>\n",
       "      <td>2000</td>\n",
       "      <td>SAL</td>\n",
       "      <td>Social Sciences</td>\n",
       "      <td>Economics</td>\n",
       "      <td>(Undergraduate level ECON 1001 Minimum Grade o...</td>\n",
       "      <td>6</td>\n",
       "      <td>30</td>\n",
       "    </tr>\n",
       "  </tbody>\n",
       "</table>\n",
       "</div>"
      ],
      "text/plain": [
       "     TERM_CODE             TERM_DESC SUBJ_CODE  CRSE_NUMB SECTION  \\\n",
       "770     201710  2017/2018 Semester I      ECON       2000     E01   \n",
       "784     201710  2017/2018 Semester I      ECON       2015     E01   \n",
       "772     201710  2017/2018 Semester I      ECON       2000     S01   \n",
       "786     201710  2017/2018 Semester I      ECON       2015     S01   \n",
       "775     201710  2017/2018 Semester I      ECON       2000     SAL   \n",
       "\n",
       "      COURSE_FACULTY COURSE_DEPARTMENT  \\\n",
       "770  Social Sciences         Economics   \n",
       "784  Social Sciences         Economics   \n",
       "772  Social Sciences         Economics   \n",
       "786  Social Sciences         Economics   \n",
       "775  Social Sciences         Economics   \n",
       "\n",
       "                                        PRE_REQUISITES  ANDs  ORs  \n",
       "770  (Undergraduate level ECON 1001 Minimum Grade o...     6   38  \n",
       "784  (Undergraduate level ECON 1003 Minimum Grade o...     6   38  \n",
       "772  (Undergraduate level ECON 1001 Minimum Grade o...     7   35  \n",
       "786  (Undergraduate level ECON 1004 Minimum Grade o...     6   35  \n",
       "775  (Undergraduate level ECON 1001 Minimum Grade o...     6   30  "
      ]
     },
     "execution_count": 54,
     "metadata": {},
     "output_type": "execute_result"
    }
   ],
   "source": [
    "high_and = df['ANDs'] > 5\n",
    "high_or = df['ORs'] > 5\n",
    "df[high_and & high_or].sort_values([\"ORs\",\"ANDs\"],ascending=False).head()\n"
   ]
  },
  {
   "cell_type": "code",
   "execution_count": 55,
   "metadata": {},
   "outputs": [],
   "source": [
    "subject = df['SUBJ_CODE'] == \"NURS\"\n",
    "code = df['CRSE_NUMB'] == 3013\n",
    "text = list(df[subject & code]['PRE_REQUISITES'])[0]"
   ]
  },
  {
   "cell_type": "code",
   "execution_count": 56,
   "metadata": {},
   "outputs": [
    {
     "name": "stdout",
     "output_type": "stream",
     "text": [
      "13\n",
      "13\n"
     ]
    }
   ],
   "source": [
    "print(len(text.split(\"(\")))\n",
    "print(len(text.split(\")\")))"
   ]
  },
  {
   "cell_type": "code",
   "execution_count": 68,
   "metadata": {},
   "outputs": [],
   "source": [
    "def count_prerequisites(text):\n",
    "    components = text.split(\"(\")\n",
    "    joiners = [] # used to keep track of whether an and or an or is used to join the sections\n",
    "    count_sec = [] # used to keep track of prerequisites within each section\n",
    "    for sec_id in range(1, len(components)):\n",
    "        sec = components[sec_id]\n",
    "        end = sec.split(\")\")\n",
    "        if len(end) > 1:\n",
    "            joiners.append(end[-1].strip())\n",
    "        count_sec.append(len(end[0].split(\" and \")))\n",
    "    # print(text)\n",
    "    # print(\"Joiners has a length of {0} and contents {1}\".format(len(joiners),joiners))\n",
    "    # print(\"count_sec has a length of {0} and contents {1}\".format(len(count_sec),count_sec))\n",
    "    # print(len(components[1].split(\")\")[0].split(\" and \")))\n",
    "    total = 0\n",
    "    if len(count_sec) > 0:\n",
    "        total = count_sec[0]\n",
    "        for i in range(0, len(joiners) - 1):\n",
    "            if joiners[i] == \"and\":\n",
    "                total += count_sec[i+1]\n",
    "            elif joiners[i] == \"or\":\n",
    "                if count_sec[i+1] > total:\n",
    "                    total = count_sec[i+1]\n",
    "\n",
    "    # print(\"Total prerequisites is {0}\".format(total))\n",
    "    return total\n"
   ]
  },
  {
   "cell_type": "code",
   "execution_count": 69,
   "metadata": {},
   "outputs": [
    {
     "data": {
      "text/html": [
       "<div>\n",
       "<style scoped>\n",
       "    .dataframe tbody tr th:only-of-type {\n",
       "        vertical-align: middle;\n",
       "    }\n",
       "\n",
       "    .dataframe tbody tr th {\n",
       "        vertical-align: top;\n",
       "    }\n",
       "\n",
       "    .dataframe thead th {\n",
       "        text-align: right;\n",
       "    }\n",
       "</style>\n",
       "<table border=\"1\" class=\"dataframe\">\n",
       "  <thead>\n",
       "    <tr style=\"text-align: right;\">\n",
       "      <th></th>\n",
       "      <th>TERM_CODE</th>\n",
       "      <th>TERM_DESC</th>\n",
       "      <th>SUBJ_CODE</th>\n",
       "      <th>CRSE_NUMB</th>\n",
       "      <th>SECTION</th>\n",
       "      <th>COURSE_FACULTY</th>\n",
       "      <th>COURSE_DEPARTMENT</th>\n",
       "      <th>PRE_REQUISITES</th>\n",
       "      <th>ANDs</th>\n",
       "      <th>ORs</th>\n",
       "    </tr>\n",
       "  </thead>\n",
       "  <tbody>\n",
       "    <tr>\n",
       "      <th>770</th>\n",
       "      <td>201710</td>\n",
       "      <td>2017/2018 Semester I</td>\n",
       "      <td>ECON</td>\n",
       "      <td>2000</td>\n",
       "      <td>E01</td>\n",
       "      <td>Social Sciences</td>\n",
       "      <td>Economics</td>\n",
       "      <td>(Undergraduate level ECON 1001 Minimum Grade o...</td>\n",
       "      <td>6</td>\n",
       "      <td>38</td>\n",
       "    </tr>\n",
       "    <tr>\n",
       "      <th>784</th>\n",
       "      <td>201710</td>\n",
       "      <td>2017/2018 Semester I</td>\n",
       "      <td>ECON</td>\n",
       "      <td>2015</td>\n",
       "      <td>E01</td>\n",
       "      <td>Social Sciences</td>\n",
       "      <td>Economics</td>\n",
       "      <td>(Undergraduate level ECON 1003 Minimum Grade o...</td>\n",
       "      <td>6</td>\n",
       "      <td>38</td>\n",
       "    </tr>\n",
       "    <tr>\n",
       "      <th>772</th>\n",
       "      <td>201710</td>\n",
       "      <td>2017/2018 Semester I</td>\n",
       "      <td>ECON</td>\n",
       "      <td>2000</td>\n",
       "      <td>S01</td>\n",
       "      <td>Social Sciences</td>\n",
       "      <td>Economics</td>\n",
       "      <td>(Undergraduate level ECON 1001 Minimum Grade o...</td>\n",
       "      <td>7</td>\n",
       "      <td>35</td>\n",
       "    </tr>\n",
       "    <tr>\n",
       "      <th>786</th>\n",
       "      <td>201710</td>\n",
       "      <td>2017/2018 Semester I</td>\n",
       "      <td>ECON</td>\n",
       "      <td>2015</td>\n",
       "      <td>S01</td>\n",
       "      <td>Social Sciences</td>\n",
       "      <td>Economics</td>\n",
       "      <td>(Undergraduate level ECON 1004 Minimum Grade o...</td>\n",
       "      <td>6</td>\n",
       "      <td>35</td>\n",
       "    </tr>\n",
       "    <tr>\n",
       "      <th>775</th>\n",
       "      <td>201710</td>\n",
       "      <td>2017/2018 Semester I</td>\n",
       "      <td>ECON</td>\n",
       "      <td>2000</td>\n",
       "      <td>SAL</td>\n",
       "      <td>Social Sciences</td>\n",
       "      <td>Economics</td>\n",
       "      <td>(Undergraduate level ECON 1001 Minimum Grade o...</td>\n",
       "      <td>6</td>\n",
       "      <td>30</td>\n",
       "    </tr>\n",
       "  </tbody>\n",
       "</table>\n",
       "</div>"
      ],
      "text/plain": [
       "     TERM_CODE             TERM_DESC SUBJ_CODE  CRSE_NUMB SECTION  \\\n",
       "770     201710  2017/2018 Semester I      ECON       2000     E01   \n",
       "784     201710  2017/2018 Semester I      ECON       2015     E01   \n",
       "772     201710  2017/2018 Semester I      ECON       2000     S01   \n",
       "786     201710  2017/2018 Semester I      ECON       2015     S01   \n",
       "775     201710  2017/2018 Semester I      ECON       2000     SAL   \n",
       "\n",
       "      COURSE_FACULTY COURSE_DEPARTMENT  \\\n",
       "770  Social Sciences         Economics   \n",
       "784  Social Sciences         Economics   \n",
       "772  Social Sciences         Economics   \n",
       "786  Social Sciences         Economics   \n",
       "775  Social Sciences         Economics   \n",
       "\n",
       "                                        PRE_REQUISITES  ANDs  ORs  \n",
       "770  (Undergraduate level ECON 1001 Minimum Grade o...     6   38  \n",
       "784  (Undergraduate level ECON 1003 Minimum Grade o...     6   38  \n",
       "772  (Undergraduate level ECON 1001 Minimum Grade o...     7   35  \n",
       "786  (Undergraduate level ECON 1004 Minimum Grade o...     6   35  \n",
       "775  (Undergraduate level ECON 1001 Minimum Grade o...     6   30  "
      ]
     },
     "execution_count": 69,
     "metadata": {},
     "output_type": "execute_result"
    }
   ],
   "source": [
    "df[high_and & high_or].sort_values([\"ORs\",\"ANDs\"],ascending=False).head()"
   ]
  },
  {
   "cell_type": "code",
   "execution_count": 74,
   "metadata": {},
   "outputs": [],
   "source": [
    "df['#PRE_REQUISITES'] = df['PRE_REQUISITES'].str.lower().apply(count_prerequisites)"
   ]
  },
  {
   "cell_type": "code",
   "execution_count": 76,
   "metadata": {},
   "outputs": [],
   "source": [
    "df.to_excel(\"./data/output.xlsx\")"
   ]
  },
  {
   "cell_type": "code",
   "execution_count": null,
   "metadata": {},
   "outputs": [],
   "source": []
  }
 ],
 "metadata": {
  "kernelspec": {
   "display_name": "Python 2",
   "language": "python",
   "name": "python2"
  },
  "language_info": {
   "codemirror_mode": {
    "name": "ipython",
    "version": 2
   },
   "file_extension": ".py",
   "mimetype": "text/x-python",
   "name": "python",
   "nbconvert_exporter": "python",
   "pygments_lexer": "ipython2",
   "version": "2.7.10"
  }
 },
 "nbformat": 4,
 "nbformat_minor": 2
}
